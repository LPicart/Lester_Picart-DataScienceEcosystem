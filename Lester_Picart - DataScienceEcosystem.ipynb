{
 "cells": [
  {
   "cell_type": "markdown",
   "id": "fc43e6e9",
   "metadata": {},
   "source": [
    "#Data Science Tools and Ecosystem\n"
   ]
  },
  {
   "attachments": {},
   "cell_type": "markdown",
   "id": "c8b7ed22",
   "metadata": {},
   "source": [
    "#In this notebook, Data Science Tools and Ecosystem are summarized.\n"
   ]
  },
  {
   "cell_type": "markdown",
   "id": "341bb3f9",
   "metadata": {},
   "source": [
    "***Objectives:***\n",
    "#List popular languages for Data Science\n",
    "-Python\n",
    "-Julia\n",
    "-R\n",
    "-Java Scripts"
   ]
  },
  {
   "cell_type": "markdown",
   "id": "4c9a4df9",
   "metadata": {},
   "source": [
    "#Some of the popular languages that Data Scientists use are:\n",
    "1.Python\n",
    "2.R\n",
    "3.Julia"
   ]
  },
  {
   "cell_type": "markdown",
   "id": "fb5149b5",
   "metadata": {},
   "source": [
    "#Some of the commonly used libraries used by Data Scientists include:\n",
    "1.Pandas\n",
    "2.Matplotlib\n",
    "3.Numpy\n",
    "4.Scikit-learn"
   ]
  },
  {
   "cell_type": "markdown",
   "id": "d72c2a72",
   "metadata": {},
   "source": [
    "#|Data Science Tools|\n",
    "---------------------------\n",
    "|Hadoop|\n",
    "|Spark|\n",
    "|Jupiter Notebooks|\n"
   ]
  },
  {
   "cell_type": "markdown",
   "id": "22e4fdd4",
   "metadata": {},
   "source": [
    "###Below are a few examples of evaluating arithmetic expressions in Python\n"
   ]
  },
  {
   "cell_type": "markdown",
   "id": "2351c92b",
   "metadata": {},
   "source": []
  },
  {
   "cell_type": "code",
   "execution_count": 1,
   "id": "240e4694",
   "metadata": {},
   "outputs": [
    {
     "data": {
      "text/plain": [
       "17"
      ]
     },
     "execution_count": 1,
     "metadata": {},
     "output_type": "execute_result"
    }
   ],
   "source": [
    "#This a simple arithmetic expression to mutiply then add integers\n",
    "(3*4)+5"
   ]
  },
  {
   "cell_type": "code",
   "execution_count": 2,
   "id": "b241d786",
   "metadata": {},
   "outputs": [
    {
     "data": {
      "text/plain": [
       "3.3333333333333335"
      ]
     },
     "execution_count": 2,
     "metadata": {},
     "output_type": "execute_result"
    }
   ],
   "source": [
    "#This will convert 200 minutes to hours by diving by 60\n",
    "200/60"
   ]
  },
  {
   "cell_type": "markdown",
   "id": "f5159e6b",
   "metadata": {},
   "source": [
    "##Author\n",
    "***Lester Picart***"
   ]
  },
  {
   "cell_type": "markdown",
   "id": "5dd82b3d",
   "metadata": {},
   "source": [
    "#Repo link: "
   ]
  }
 ],
 "metadata": {
  "kernelspec": {
   "display_name": "Python 3 (ipykernel)",
   "language": "python",
   "name": "python3"
  },
  "language_info": {
   "codemirror_mode": {
    "name": "ipython",
    "version": 3
   },
   "file_extension": ".py",
   "mimetype": "text/x-python",
   "name": "python",
   "nbconvert_exporter": "python",
   "pygments_lexer": "ipython3",
   "version": "3.11.5"
  }
 },
 "nbformat": 4,
 "nbformat_minor": 5
}
